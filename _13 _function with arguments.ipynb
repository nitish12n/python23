{
 "cells": [
  {
   "cell_type": "code",
   "execution_count": null,
   "id": "a02116fe-831b-44d3-8d52-f46485ca2e8a",
   "metadata": {},
   "outputs": [],
   "source": [
    "# Assignment-8: Function with arguments\n",
    "# Nallagoni Omkar\n",
    "# •\n",
    "# 09:45\n",
    "# 100 points\n",
    "# bDue 23:59\n",
    "# 1)wap ask the user enter 3 numbers n1,n2,n3 from ketboard\n",
    "# calculate average\n",
    "\n",
    "# 2)wap ask the user enter name age city\n",
    "# print my name is python im 10 years old and came from hyd\n",
    "\n",
    "# 3)wap ask the user to enter radidus of a circle calculate area of the circle\n",
    "# var: radidus  var: pi=3.14\n",
    "# formuale: pi*radius*radius#\n",
    "# print the answers using f string and format\n",
    "\n",
    "# 4)wap ask the user enter breadth and height of a right angle triangle\n",
    "# calculate the area\n",
    "# var1: bredath  var2: height\n",
    "# formuale : 0.5*breadth*heigh\n",
    "\n",
    "# 5)wap ask the user the bill amount and tip amount\n",
    "#   calculate total bill\n",
    "#   var1: bill amount var2: tip amount\n",
    "#   formuale\n",
    "\n",
    "# 6)wap ask the user the bill amount and tip percentage\n",
    "#    take tip percentage as 10\n",
    "#   calculate total bill= bill amount+ bill amount*tip per/100\n",
    "#   var1: bill amount var2: tip amount\n",
    "#    formuale\n",
    "\n",
    "# 7)wap ask the length and breadth of a rectangle calculate area\n",
    "#   var1: length  var2: breadth\n",
    "#   formulae: length * breadth\n",
    "\n",
    "# 8) wap ask the user take the radius and calculate volume of sphere\n",
    "#   formulae: pi*r**3(pi*r*r*r)\n",
    "\n",
    "# 9) wap ask the user enter amount in dollars convert into rupees\n",
    "#     1$=85rs\n",
    "\n",
    "# 10)wap ask the user enter weight in kgs convert into pounds\n",
    "#    1kg= 2.2pounds"
   ]
  },
  {
   "cell_type": "code",
   "execution_count": 33,
   "id": "7f79e49b-52c9-45df-8d70-6f532f4de115",
   "metadata": {},
   "outputs": [
    {
     "name": "stdout",
     "output_type": "stream",
     "text": [
      "The average of 12, 12, and 12 is: 12.0\n"
     ]
    }
   ],
   "source": [
    "# 1)wap ask the user enter 3 numbers n1,n2,n3 from ketboard\n",
    "# calculate average with arguments\n",
    "# Define a function to calculate the average of three numbers with argument\n",
    "def calculate_average(n1, n2, n3):\n",
    "    \n",
    "\n",
    "\n",
    "    average = (n1+ n2+ n3)/3\n",
    "\n",
    "    \n",
    "    print(f\"The average of {n1}, {n2}, and {n3} is: {average}\")\n",
    "calculate_average(12,12,12)\n",
    "\n",
    "\n"
   ]
  },
  {
   "cell_type": "code",
   "execution_count": 31,
   "id": "942dc442-2588-4af3-b6e3-bf9661748d12",
   "metadata": {},
   "outputs": [
    {
     "name": "stdout",
     "output_type": "stream",
     "text": [
      "my name is nitish im 10 years old and came from hyd\n"
     ]
    }
   ],
   "source": [
    " # 2)wap ask the user enter name age city\n",
    "# print my name is python im 10 years old and came from hyd with argument\n",
    "def intro(name,age,city):\n",
    "    print(f'my name is {name} im {age} years old and came from {city}')\n",
    "intro('nitish',10,'hyd')"
   ]
  },
  {
   "cell_type": "code",
   "execution_count": 29,
   "id": "73844738-4a80-4c5c-bfe6-951a03583b83",
   "metadata": {},
   "outputs": [
    {
     "name": "stdout",
     "output_type": "stream",
     "text": [
      "the area of a circle for 10 is: 314.0\n"
     ]
    }
   ],
   "source": [
    "# 3)wap ask the user to enter radidus of a circle calculate area of the circle\n",
    "# var: radidus  var: pi=3.14\n",
    "# formuale: pi*radius*radius#\n",
    "# print the answers using f string and format\n",
    "# Define a function to calculate the area of a circle with arguments\n",
    "def calculate_area(radius,pi):\n",
    "    \n",
    "    area=pi*radius*radius\n",
    "    print(f'the area of a circle for {radius} is: {area}')\n",
    "calculate_area(10,3.14)\n",
    "\n",
    "\n",
    "        \n",
    "    \n",
    "    \n",
    "    \n",
    "    \n",
    "   \n",
    "    "
   ]
  },
  {
   "cell_type": "code",
   "execution_count": 25,
   "id": "2541836b-dc54-4827-9026-53caf2fd8d74",
   "metadata": {},
   "outputs": [
    {
     "name": "stdout",
     "output_type": "stream",
     "text": [
      "for breadth12 and height24 are is 144.0\n"
     ]
    }
   ],
   "source": [
    " # 4)wap ask the user enter breadth and height of a right angle triangle\n",
    "# calculate the area\n",
    "# var1: bredath  var2: height\n",
    "# formuale : 0.5*breadth*heigh with arguments\n",
    "def area_of_traingle(breadth,height):\n",
    "    area=1/2*breadth*height\n",
    "    print(f'for breadth{breadth} and height{height} are is {area}')\n",
    "\n",
    "area_of_traingle(12,24)\n"
   ]
  },
  {
   "cell_type": "code",
   "execution_count": 41,
   "id": "a5524bd6-5441-4a41-aaca-cdaa97dd8f54",
   "metadata": {},
   "outputs": [
    {
     "name": "stdout",
     "output_type": "stream",
     "text": [
      " the total bill is : 2200.0\n"
     ]
    }
   ],
   "source": [
    "# 6)wap ask the user the bill amount and tip percentage\n",
    "#    take tip percentage as 10\n",
    "#   calculate total bill= bill amount+ bill amount*tip per/100\n",
    "#   var1: bill amount var2: tip amount\n",
    "#    formuale WITH arguments\n",
    "def BILL_AMOUNT(bill_amount,tip_per):\n",
    "    tip_amount=bill_amount*tip_per/100\n",
    "    total_bill=bill_amount+tip_amount\n",
    "    print(\" the total bill is :\",total_bill)\n",
    "\n",
    "BILL_AMOUNT(2000,10)\n",
    "\n",
    "                      \n"
   ]
  },
  {
   "cell_type": "code",
   "execution_count": 37,
   "id": "74c3db0e-fb0b-4f70-a18b-7fe8398a2a1d",
   "metadata": {},
   "outputs": [
    {
     "name": "stdout",
     "output_type": "stream",
     "text": [
      " the total bill is : 2010\n"
     ]
    }
   ],
   "source": [
    "# )wap ask the user the bill amount and tip amount\n",
    "#   calculate total bill\n",
    "#   var1: bill amount var2: tip amount\n",
    "#   formuale WITH ARGUMENT\n",
    "def  BILL(bill_amount,tip_amount):\n",
    "    \n",
    "    total_bill=bill_amount+tip_amount\n",
    "    print(\" the total bill is :\",total_bill)\n",
    "\n",
    "BILL (2000,10)"
   ]
  },
  {
   "cell_type": "code",
   "execution_count": 39,
   "id": "07cf8360-a412-4fe2-a7c6-8a08412253a7",
   "metadata": {},
   "outputs": [
    {
     "name": "stdout",
     "output_type": "stream",
     "text": [
      "for breadth 40 and 30  are is 1200\n"
     ]
    }
   ],
   "source": [
    "# wap ask the length and breadth of a rectangle calculate area\n",
    "#   var1: length  var2: breadth\n",
    "#   formulae: length * breadth\n",
    "\n",
    "def area_of_rectangle(length,breadth):\n",
    "    area= length*breadth\n",
    "    print(f\"for breadth {breadth} and {length}  are is {area}\")\n",
    "\n",
    "area_of_rectangle(30,40)"
   ]
  },
  {
   "cell_type": "code",
   "execution_count": 45,
   "id": "da1893da-607b-479b-926f-d8af7d32b464",
   "metadata": {},
   "outputs": [
    {
     "name": "stdout",
     "output_type": "stream",
     "text": [
      "the volume of sphere for radius 10 is : 3140.0\n"
     ]
    }
   ],
   "source": [
    "# 8) wap ask the user take the radius and calculate volume of sphere\n",
    "#   formulae: pi*r**3(pi*r*r*r)\n",
    "def sphere(radius,pi):\n",
    "    area = pi*radius**3\n",
    "    print(f'the volume of sphere for radius {radius} is : {area}')\n",
    "\n",
    "sphere(10,3.14)\n"
   ]
  },
  {
   "cell_type": "code",
   "execution_count": 49,
   "id": "2e52ee2c-5a0e-4f54-a97b-bdbb054ecd22",
   "metadata": {},
   "outputs": [
    {
     "name": "stdout",
     "output_type": "stream",
     "text": [
      "rupees: 8500\n"
     ]
    }
   ],
   "source": [
    "# 9) wap ask the user enter amount in dollars convert into rupees\n",
    "#     1$=85rs\n",
    "def dollar(rupees):\n",
    "    dollar=rupees*85\n",
    "    print(f\"rupees:\",dollar)\n",
    "dollar(100)    "
   ]
  },
  {
   "cell_type": "code",
   "execution_count": 55,
   "id": "cfc789e7-ed16-482d-a529-398d2ae2ef0c",
   "metadata": {},
   "outputs": [
    {
     "name": "stdout",
     "output_type": "stream",
     "text": [
      "8kg=17.6\n"
     ]
    }
   ],
   "source": [
    "# 10)wap ask the user enter weight in kgs convert into pounds\n",
    "#    1kg= 2.2pounds\n",
    "def weight_convert(weight):\n",
    "    pounds= weight*2.2\n",
    "    print(f\"{weight}kg={pounds}\")\n",
    "weight_convert(8)\n",
    "    "
   ]
  },
  {
   "cell_type": "code",
   "execution_count": null,
   "id": "a8b853a9-1bff-4400-863d-4a706c77fbd3",
   "metadata": {},
   "outputs": [],
   "source": []
  }
 ],
 "metadata": {
  "kernelspec": {
   "display_name": "Python [conda env:base] *",
   "language": "python",
   "name": "conda-base-py"
  },
  "language_info": {
   "codemirror_mode": {
    "name": "ipython",
    "version": 3
   },
   "file_extension": ".py",
   "mimetype": "text/x-python",
   "name": "python",
   "nbconvert_exporter": "python",
   "pygments_lexer": "ipython3",
   "version": "3.12.7"
  }
 },
 "nbformat": 4,
 "nbformat_minor": 5
}
