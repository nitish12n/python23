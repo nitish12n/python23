{
 "cells": [
  {
   "cell_type": "code",
   "execution_count": null,
   "id": "1b622487-385e-4700-8bea-97cc330c3445",
   "metadata": {},
   "outputs": [],
   "source": [
    "\n",
    "# # Q1) Factorial recursion 5! = 5*4*3*2*1*\n",
    "# # Q2) calcultor\n",
    "\n",
    "# # step-1: create 4 functions\n",
    "# # def add(a,b):\n",
    "# #     return(a+b)\n",
    "# # def mul\n",
    "# # def div\n",
    "# # def sub\n",
    "\n",
    "# # print('enter 1 for add 2 sub so on')\n",
    "\n",
    "# def main():\n",
    "#     option=eval(input('enter between 1 to 4'))\n",
    "#     if option==1:\n",
    "#         a=\n",
    "#         b=\n",
    "#         add()\n",
    "#         return\n",
    "#    elif option==2:\n",
    "#         a=\n",
    "#         b=\n",
    "#         mul()\n",
    "#         return\n",
    "# 1 class comment\n",
    "\n",
    "# Pavan K10:48\n",
    "# def fact(n):\n",
    "#     if n == 0:\n",
    "#         return 1  \n",
    "#     else:\n",
    "#         return n * fact(n - 1)  \n",
    "\n",
    "# output = fact(n=10)\n",
    "# print(output)"
   ]
  },
  {
   "cell_type": "code",
   "execution_count": 4,
   "id": "83f93925-f768-4ca1-bc99-63c838ab77ea",
   "metadata": {},
   "outputs": [
    {
     "name": "stdin",
     "output_type": "stream",
     "text": [
      "enter any number 5\n"
     ]
    },
    {
     "name": "stdout",
     "output_type": "stream",
     "text": [
      "factrorial of {5} is : 120\n"
     ]
    }
   ],
   "source": [
    "# # Q1) Factorial recursion 5! = 5*4*3*2*1*\n",
    "n=int(input('enter any number'))\n",
    "def factorial(n):\n",
    "    # Base case: factorial of 0 or 1 is 1\n",
    "    if n == 0 :\n",
    "        return 1\n",
    "    \n",
    "    # Recursive case\n",
    "    else:\n",
    "        return n * factorial(n - 1)\n",
    "\n",
    "# Test the function\n",
    "result = factorial(n)  # 5! = 5 * 4 * 3 * 2 * 1\n",
    "print('factrorial of', {n}, 'is :', result)"
   ]
  },
  {
   "cell_type": "code",
   "execution_count": 8,
   "id": "df547123-3872-4458-ae8c-c6dfcf96c319",
   "metadata": {},
   "outputs": [
    {
     "name": "stdout",
     "output_type": "stream",
     "text": [
      "Enter the operation:\n",
      "1 for Addition\n",
      "2 for Subtraction\n",
      "3 for Multiplication\n",
      "4 for Division\n",
      "5 for Factorial\n"
     ]
    },
    {
     "name": "stdin",
     "output_type": "stream",
     "text": [
      "Choose an option (1-5):  1\n",
      "Enter the first number:  12\n",
      "Enter the second number:  12\n"
     ]
    },
    {
     "name": "stdout",
     "output_type": "stream",
     "text": [
      "Result: 24.0\n"
     ]
    }
   ],
   "source": [
    "# Define the arithmetic functions\n",
    "def add(a, b):\n",
    "    return a + b\n",
    "\n",
    "def sub(a, b):\n",
    "    return a - b\n",
    "\n",
    "def mul(a, b):\n",
    "    return a * b\n",
    "\n",
    "def div(a, b):\n",
    "    if b != 0:\n",
    "        return a / b\n",
    "    else:\n",
    "        return \"Division by zero is not allowed.\"\n",
    "\n",
    "# Define the factorial function\n",
    "def fact(n):\n",
    "    if n == 0:\n",
    "        return 1\n",
    "    else:\n",
    "        return n * fact(n - 1)\n",
    "\n",
    "# Main function to run the calculator\n",
    "def main():\n",
    "    print(\"Enter the operation:\")\n",
    "    print(\"1 for Addition\")\n",
    "    print(\"2 for Subtraction\")\n",
    "    print(\"3 for Multiplication\")\n",
    "    print(\"4 for Division\")\n",
    "    print(\"5 for Factorial\")\n",
    "    \n",
    "    option = int(input(\"Choose an option (1-5): \"))\n",
    "    \n",
    "    if option in [1, 2, 3, 4]:\n",
    "        a = float(input(\"Enter the first number: \"))\n",
    "        b = float(input(\"Enter the second number: \"))\n",
    "        \n",
    "        if option == 1:\n",
    "            print(\"Result:\", add(a, b))\n",
    "        elif option == 2:\n",
    "            print(\"Result:\", sub(a, b))\n",
    "        elif option == 3:\n",
    "            print(\"Result:\", mul(a, b))\n",
    "        elif option == 4:\n",
    "            print(\"Result:\", div(a, b))\n",
    "    elif option == 5:\n",
    "        n = int(input(\"Enter a number to calculate its factorial: \"))\n",
    "        if n >= 0:\n",
    "            print(\"Factorial:\", fact(n))\n",
    "        else:\n",
    "            print(\"Factorial is not defined for negative numbers.\")\n",
    "    else:\n",
    "        print(\"Invalid option. Please try again.\")\n",
    "\n",
    "# Run the program\n",
    "if __name__ == \"__main__\":\n",
    "    main()"
   ]
  },
  {
   "cell_type": "code",
   "execution_count": 16,
   "id": "2d3d54ab-ade3-4a89-a6a5-1f89cf1ac894",
   "metadata": {},
   "outputs": [
    {
     "name": "stdin",
     "output_type": "stream",
     "text": [
      "enter ist number: 12\n",
      "enter the second number: 12\n"
     ]
    },
    {
     "data": {
      "text/plain": [
       "24"
      ]
     },
     "execution_count": 16,
     "metadata": {},
     "output_type": "execute_result"
    }
   ],
   "source": [
    "# other method calculator\n",
    "def add ():\n",
    "    a=eval(input('enter ist number:'))\n",
    "    b=eval(input('enter the second number:'))\n",
    "    return(a+b)\n",
    "\n",
    "add()          \n"
   ]
  },
  {
   "cell_type": "code",
   "execution_count": 26,
   "id": "4461de6d-e64c-4456-97d6-b324b69565eb",
   "metadata": {},
   "outputs": [
    {
     "name": "stdin",
     "output_type": "stream",
     "text": [
      "enter the  first number 12\n",
      "enter the second number 12\n"
     ]
    },
    {
     "data": {
      "text/plain": [
       "0"
      ]
     },
     "execution_count": 26,
     "metadata": {},
     "output_type": "execute_result"
    }
   ],
   "source": [
    "def sub():\n",
    "    a=eval(input('enter the  first number'))\n",
    "    b=eval(input('enter the second number'))\n",
    "    return(a-b)\n",
    "sub()\n",
    "\n",
    "\n",
    "\n",
    "\n",
    "        \n",
    "    "
   ]
  },
  {
   "cell_type": "code",
   "execution_count": 30,
   "id": "4bda647f-3326-4b24-9c33-2080e6384d9f",
   "metadata": {},
   "outputs": [
    {
     "name": "stdin",
     "output_type": "stream",
     "text": [
      "enter the first number 12\n",
      "enter the second number 12\n"
     ]
    },
    {
     "data": {
      "text/plain": [
       "144"
      ]
     },
     "execution_count": 30,
     "metadata": {},
     "output_type": "execute_result"
    }
   ],
   "source": [
    "def multiple():\n",
    "    a=eval(input('enter the first number'))\n",
    "    b= eval(input('enter the second number'))\n",
    "    return(a*b)\n",
    "\n",
    "multiple()"
   ]
  },
  {
   "cell_type": "code",
   "execution_count": 36,
   "id": "4c983689-d789-4473-9cfe-c4accd26eef9",
   "metadata": {},
   "outputs": [
    {
     "name": "stdin",
     "output_type": "stream",
     "text": [
      "enter the first number 12\n",
      "enter  the second number 5\n"
     ]
    },
    {
     "data": {
      "text/plain": [
       "2.4"
      ]
     },
     "execution_count": 36,
     "metadata": {},
     "output_type": "execute_result"
    }
   ],
   "source": [
    "def div():\n",
    "    a=eval( input('enter the first number'))\n",
    "    b=eval(input('enter  the second number'))\n",
    "    return(a/b)\n",
    "\n",
    "div()"
   ]
  },
  {
   "cell_type": "code",
   "execution_count": 55,
   "id": "8e3be3bb-577f-432c-87d4-a2881fd585e9",
   "metadata": {},
   "outputs": [],
   "source": [
    "def add ():\n",
    "    a=eval(input('enter ist number:'))\n",
    "    b=eval(input('enter the second number:'))\n",
    "    return(a+b)\n",
    "\n",
    "def sub():\n",
    "    a=eval(input('enter the  first number'))\n",
    "    b=eval(input('enter the second number'))\n",
    "    return(a-b)\n",
    "\n",
    "def multiple():\n",
    "    a=eval(input('enter the first number'))\n",
    "    b= eval(input('enter the second number'))\n",
    "    return(a*b)\n",
    "\n",
    "def div():\n",
    "    a=eval( input('enter the first number'))\n",
    "    b=eval(input('enter  the second number'))\n",
    "    return(a/b)\n",
    "def main ():\n",
    "    print('choose the option ,choose 1 for addtiton,2 choose for subtraction,3 choose for multiple and 4 choose division')\n",
    "    if option == 1:\n",
    "        result= add() \n",
    "        print(result)\n",
    "\n",
    "    elif option ==2:\n",
    "        result=sub()\n",
    "        print(result)\n",
    "\n",
    "\n",
    "\n",
    "    elif option ==3:\n",
    "        result=multiple()\n",
    "   \n",
    "        print(result)\n",
    "    \n",
    "\n",
    "\n",
    "    elif option ==4:\n",
    "        result=div()\n",
    "    \n",
    "        print(result) \n",
    "\n",
    "    \n",
    "    else:\n",
    "        print('invalid option')\n",
    "\n",
    "        \n",
    "    \n",
    "\n",
    "\n",
    "    \n",
    "    \n",
    "        \n",
    "    "
   ]
  },
  {
   "cell_type": "code",
   "execution_count": null,
   "id": "e6590c6d-eb3c-4922-987e-4cd8cd8fe055",
   "metadata": {},
   "outputs": [],
   "source": [
    "def add():\n",
    "    a = get_number(\"Enter the first number: \")\n",
    "    b = get_number(\"Enter the second number: \")\n",
    "    return a + b\n",
    "\n",
    "def sub():\n",
    "    a = get_number(\"Enter the first number: \")\n",
    "    b = get_number(\"Enter the second number: \")\n",
    "    return a - b\n",
    "\n",
    "def multiply():\n",
    "    a = get_number(\"Enter the first number: \")\n",
    "    b = get_number(\"Enter the second number: \")\n",
    "    return a * b\n",
    "\n",
    "def div():\n",
    "    a = get_number(\"Enter the first number: \")\n",
    "    b = get_number(\"Enter the second number: \")\n",
    "    if b == 0:\n",
    "        return \"Error: Division by zero is not allowed.\"\n",
    "    return a / b\n",
    "\n",
    "def get_number(prompt):\n",
    "    while True:\n",
    "        value = input(prompt)\n",
    "        if value.replace('.', '', 1).isdigit():\n",
    "            return float(value)\n",
    "        else:\n",
    "            print(\"Invalid input. Please enter a valid number.\")\n",
    "\n",
    "def main():\n",
    "    print(\"Choose an option:\")\n",
    "    print(\"1: Addition\")\n",
    "    print(\"2: Subtraction\")\n",
    "    print(\"3: Multiplication\")\n",
    "    print(\"4: Division\")\n",
    "    \n",
    "    option = input(\"Enter your choice (1-4): \")\n",
    "    if option == \"1\":\n",
    "        result = add()\n",
    "        print(f\"Result: {result}\")\n",
    "    elif option == \"2\":\n",
    "        result = sub()\n",
    "        print(f\"Result: {result}\")\n",
    "    elif option == \"3\":\n",
    "        result = multiply()\n",
    "        print(f\"Result: {result}\")\n",
    "    elif option == \"4\":\n",
    "        result = div()\n",
    "        print(f\"Result: {result}\")\n",
    "    else:\n",
    "        print(\"Invalid option.\")\n",
    "\n",
    "# Run the program\n",
    "main()"
   ]
  },
  {
   "cell_type": "code",
   "execution_count": 63,
   "id": "d5e23172-f168-45ac-b385-e1a6f337e6bd",
   "metadata": {},
   "outputs": [
    {
     "name": "stdout",
     "output_type": "stream",
     "text": [
      "Choose an option:\n",
      "1: Addition\n",
      "2: Subtraction\n",
      "3: Multiplication\n",
      "4: Division\n"
     ]
    },
    {
     "name": "stdin",
     "output_type": "stream",
     "text": [
      "Enter your choice (1-4):  1\n",
      "Enter the first number:  12\n",
      "Enter the second number:  1\n"
     ]
    },
    {
     "name": "stdout",
     "output_type": "stream",
     "text": [
      "Result: 13.0\n"
     ]
    }
   ],
   "source": [
    "# correct caluator \n",
    "def add():\n",
    "    \"\"\"Perform addition of two numbers.\"\"\"\n",
    "    a = float(input(\"Enter the first number: \"))\n",
    "    b = float(input(\"Enter the second number: \"))\n",
    "    return a + b\n",
    "\n",
    "def sub():\n",
    "    \"\"\"Perform subtraction of two numbers.\"\"\"\n",
    "    a = float(input(\"Enter the first number: \"))\n",
    "    b = float(input(\"Enter the second number: \"))\n",
    "    return a - b\n",
    "\n",
    "def multiply():\n",
    "    \"\"\"Perform multiplication of two numbers.\"\"\"\n",
    "    a = float(input(\"Enter the first number: \"))\n",
    "    b = float(input(\"Enter the second number: \"))\n",
    "    return a * b\n",
    "\n",
    "def div():\n",
    "    \"\"\"Perform division of two numbers, with error handling for division by zero.\"\"\"\n",
    "    a = float(input(\"Enter the first number: \"))\n",
    "    b = float(input(\"Enter the second number: \"))\n",
    "    if b == 0:\n",
    "        return \"Error: Division by zero is not allowed.\"\n",
    "    return a / b\n",
    "\n",
    "def main():\n",
    "    \"\"\"Display menu and perform the chosen operation.\"\"\"\n",
    "    print(\"Choose an option:\")\n",
    "    print(\"1: Addition\")\n",
    "    print(\"2: Subtraction\")\n",
    "    print(\"3: Multiplication\")\n",
    "    print(\"4: Division\")\n",
    "    \n",
    "    option = int(input(\"Enter your choice (1-4): \"))\n",
    "    \n",
    "    if option == 1:\n",
    "        result = add()\n",
    "        print(f\"Result: {result}\")\n",
    "    elif option == 2:\n",
    "        result = sub()\n",
    "        print(f\"Result: {result}\")\n",
    "    elif option == 3:\n",
    "        result = multiply()\n",
    "        print(f\"Result: {result}\")\n",
    "    elif option == 4:\n",
    "        result = div()\n",
    "        print(f\"Result: {result}\")\n",
    "    else:\n",
    "        print(\"Invalid option. Please choose a valid number between 1 and 4.\")\n",
    "\n",
    "# Run the program\n",
    "if __name__ == \"__main__\":\n",
    "    main()"
   ]
  },
  {
   "cell_type": "code",
   "execution_count": null,
   "id": "99c7a8e9-0617-4368-936e-13bbbbf5b995",
   "metadata": {},
   "outputs": [],
   "source": [
    "\n"
   ]
  },
  {
   "cell_type": "code",
   "execution_count": null,
   "id": "4f4ce30f-9362-4278-b633-c196184cd6a0",
   "metadata": {},
   "outputs": [],
   "source": []
  }
 ],
 "metadata": {
  "kernelspec": {
   "display_name": "Python [conda env:base] *",
   "language": "python",
   "name": "conda-base-py"
  },
  "language_info": {
   "codemirror_mode": {
    "name": "ipython",
    "version": 3
   },
   "file_extension": ".py",
   "mimetype": "text/x-python",
   "name": "python",
   "nbconvert_exporter": "python",
   "pygments_lexer": "ipython3",
   "version": "3.12.7"
  }
 },
 "nbformat": 4,
 "nbformat_minor": 5
}
